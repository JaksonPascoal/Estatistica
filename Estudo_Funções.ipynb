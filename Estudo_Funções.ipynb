{
  "nbformat": 4,
  "nbformat_minor": 0,
  "metadata": {
    "colab": {
      "provenance": []
    },
    "kernelspec": {
      "name": "python3",
      "display_name": "Python 3"
    },
    "language_info": {
      "name": "python"
    }
  },
  "cells": [
    {
      "cell_type": "markdown",
      "source": [
        "Introdução às Funções em Python\n",
        "\n",
        "O que são Funções?\n",
        "\n",
        "Funções são blocos de código reutilizáveis que realizam uma tarefa específica. Elas ajudam a organizar o código, tornando-o mais legível e modular.\n",
        "\n",
        "Definindo uma Função\n",
        "\n",
        "Uma função em Python é definida usando a palavra-chave def seguida pelo nome da função e parênteses (). Dentro dos parênteses, você pode incluir parâmetros que a função pode receber. O corpo da função é indentado."
      ],
      "metadata": {
        "id": "BnIti2y0j3kx"
      }
    },
    {
      "cell_type": "markdown",
      "source": [
        "Partindo do Zero até niveis de Funções avançadas."
      ],
      "metadata": {
        "id": "7NY7Kxb3k4jw"
      }
    },
    {
      "cell_type": "code",
      "execution_count": null,
      "metadata": {
        "colab": {
          "base_uri": "https://localhost:8080/"
        },
        "id": "2kEfUqW8j1h3",
        "outputId": "1350fec0-3444-4a44-87f3-2f7a58d05b58"
      },
      "outputs": [
        {
          "output_type": "stream",
          "name": "stdout",
          "text": [
            "Qual é o seu nome? Jakson Pascoal\n",
            "Olá Jakson Pascoal\n"
          ]
        }
      ],
      "source": [
        "#Exemplo básicp\n",
        "def saudacao():\n",
        "  nome = input('Qual é o seu nome? ')\n",
        "  print(f'Olá {nome}')\n",
        "\n",
        "saudacao()"
      ]
    },
    {
      "cell_type": "code",
      "source": [
        "#Funções com Parâmetros\n",
        "#Você pode definir funções que aceitam argumentos. Isso torna as funções mais flexíveis e reutilizáveis.\n",
        "def saudação_com_parametros(nome_da_pessoa):\n",
        "  print(f'Olá {nome_da_pessoa}')"
      ],
      "metadata": {
        "id": "a7NLNXmMl0i9"
      },
      "execution_count": null,
      "outputs": []
    },
    {
      "cell_type": "code",
      "source": [
        "saudação_com_parametros('JaksonPascoal')"
      ],
      "metadata": {
        "colab": {
          "base_uri": "https://localhost:8080/"
        },
        "id": "I3rkNtMwmHpn",
        "outputId": "bcabd7e3-a722-40b1-ce30-287e4740d4d7"
      },
      "execution_count": null,
      "outputs": [
        {
          "output_type": "stream",
          "name": "stdout",
          "text": [
            "Olá JaksonPascoal\n"
          ]
        }
      ]
    },
    {
      "cell_type": "code",
      "source": [
        "#Funções com Valores de Retorno\n",
        "#Funções podem retornar valores usando a palavra-chave return.\n",
        "def soma(a, b, c):\n",
        "  soma = a + b + c\n",
        "  return soma"
      ],
      "metadata": {
        "id": "nLuDuL8LmPgg"
      },
      "execution_count": null,
      "outputs": []
    },
    {
      "cell_type": "code",
      "source": [
        "soma(23, 24, 25)"
      ],
      "metadata": {
        "colab": {
          "base_uri": "https://localhost:8080/"
        },
        "id": "YF62u-QrmfQk",
        "outputId": "02df1bc2-ee08-4a7e-e11c-28ef600e713b"
      },
      "execution_count": null,
      "outputs": [
        {
          "output_type": "execute_result",
          "data": {
            "text/plain": [
              "72"
            ]
          },
          "metadata": {},
          "execution_count": 5
        }
      ]
    },
    {
      "cell_type": "code",
      "source": [
        "#Parâmetros Padrão\n",
        "#Você pode definir valores padrão para os parâmetros. Isso é útil quando você deseja tornar alguns argumentos opcionais.\n",
        "def saudacao(nome, saudacao='Olá'):\n",
        "  return f'{saudacao} {nome}'"
      ],
      "metadata": {
        "id": "FI1UvdHcmjpN"
      },
      "execution_count": null,
      "outputs": []
    },
    {
      "cell_type": "code",
      "source": [
        "saudacao('Jakson')"
      ],
      "metadata": {
        "colab": {
          "base_uri": "https://localhost:8080/",
          "height": 35
        },
        "id": "IznTlsMDnAdR",
        "outputId": "189853ed-3145-416f-f93c-7fc214de1c41"
      },
      "execution_count": null,
      "outputs": [
        {
          "output_type": "execute_result",
          "data": {
            "text/plain": [
              "'Olá Jakson'"
            ],
            "application/vnd.google.colaboratory.intrinsic+json": {
              "type": "string"
            }
          },
          "metadata": {},
          "execution_count": 7
        }
      ]
    },
    {
      "cell_type": "code",
      "source": [
        "#Funções Aninhadas\n",
        "#Funções podem ser definidas dentro de outras funções. Essas são chamadas de funções aninhadas ou funções internas.\n",
        "def externa():\n",
        "  print('Esta é a função externa')\n",
        "\n",
        "  def interna():\n",
        "    print('Esta é a função interna')\n",
        "  interna()\n",
        "externa()\n"
      ],
      "metadata": {
        "colab": {
          "base_uri": "https://localhost:8080/"
        },
        "id": "MTPR1jkmnDXl",
        "outputId": "1051a7ec-6074-442c-b5da-b04789580196"
      },
      "execution_count": null,
      "outputs": [
        {
          "output_type": "stream",
          "name": "stdout",
          "text": [
            "Esta é a função externa\n",
            "Esta é a função interna\n"
          ]
        }
      ]
    },
    {
      "cell_type": "code",
      "source": [
        "#Funções como Objetos de Primeira Classe\n",
        "#Em Python, funções são tratadas como objetos de primeira classe,\n",
        "#o que significa que podem ser passadas como argumentos para outras funções,\n",
        "#retornadas de outras funções e atribuídas a variáveis.\n",
        "def soma(a,b):\n",
        "  return a + b\n",
        "def multiplicacao(a,b):\n",
        "  return a * b\n",
        "def divisao(a,b):\n",
        "  return a / b\n",
        "def subtracao(a,b):\n",
        "  return a - b\n",
        "def calculadora(funcao, a, b):\n",
        "  return funcao(a, b)\n",
        "def teste(funcao):\n",
        "  return funcao"
      ],
      "metadata": {
        "id": "HlE4of3roe0J"
      },
      "execution_count": null,
      "outputs": []
    },
    {
      "cell_type": "code",
      "source": [
        "result_soma = calculadora(soma, 2, 3)\n",
        "result_multiplicacao = calculadora(multiplicacao, 2, 3)\n",
        "result_divisao = calculadora(divisao, 2, 3)\n",
        "result_subtracao = calculadora(subtracao, 2, 3)\n",
        "print(result_soma)\n",
        "print(result_multiplicacao)\n",
        "print(result_divisao)\n",
        "print(teste(soma))\n",
        "print(teste(multiplicacao))\n",
        "print(teste(divisao))\n",
        "print(teste(subtracao))"
      ],
      "metadata": {
        "colab": {
          "base_uri": "https://localhost:8080/"
        },
        "id": "XoTNugZwpS98",
        "outputId": "03fb23a6-450b-4484-909e-3a9016369a8d"
      },
      "execution_count": null,
      "outputs": [
        {
          "output_type": "stream",
          "name": "stdout",
          "text": [
            "5\n",
            "6\n",
            "0.6666666666666666\n",
            "<function soma at 0x7a075775dfc0>\n",
            "<function multiplicacao at 0x7a075775d870>\n",
            "<function divisao at 0x7a075775fa30>\n",
            "<function subtracao at 0x7a075775fd90>\n"
          ]
        }
      ]
    },
    {
      "cell_type": "markdown",
      "source": [
        "Aplicações em Ciência de Dados\n",
        "\n"
      ],
      "metadata": {
        "id": "a9dq6ZC1qJK5"
      }
    },
    {
      "cell_type": "code",
      "source": [
        "import pandas as pd"
      ],
      "metadata": {
        "id": "X5e6GsMPqMZO"
      },
      "execution_count": null,
      "outputs": []
    },
    {
      "cell_type": "code",
      "source": [
        "#Leitura de Dados\n",
        "\n",
        "#Funções podem ser usadas para modularizar o código de leitura e processamento de dados.\n",
        "#Por exemplo, funções para carregar dados de diferentes fontes (CSV, Excel, banco de dados).\n",
        "\n",
        "def carregar_dados(nome_do_arquivo):\n",
        "  return pd.read_csv(nome_do_arquivo)\n",
        "dados = carregar_dados('/content/sample_data/california_housing_test.csv')\n",
        "print(dados.head())"
      ],
      "metadata": {
        "colab": {
          "base_uri": "https://localhost:8080/"
        },
        "id": "EMcZM3GMqocy",
        "outputId": "39ac0a58-a82a-4b1c-db82-a6e58239a388"
      },
      "execution_count": null,
      "outputs": [
        {
          "output_type": "stream",
          "name": "stdout",
          "text": [
            "   longitude  latitude  housing_median_age  total_rooms  total_bedrooms  \\\n",
            "0    -122.05     37.37                27.0       3885.0           661.0   \n",
            "1    -118.30     34.26                43.0       1510.0           310.0   \n",
            "2    -117.81     33.78                27.0       3589.0           507.0   \n",
            "3    -118.36     33.82                28.0         67.0            15.0   \n",
            "4    -119.67     36.33                19.0       1241.0           244.0   \n",
            "\n",
            "   population  households  median_income  median_house_value  \n",
            "0      1537.0       606.0         6.6085            344700.0  \n",
            "1       809.0       277.0         3.5990            176500.0  \n",
            "2      1484.0       495.0         5.7934            270500.0  \n",
            "3        49.0        11.0         6.1359            330000.0  \n",
            "4       850.0       237.0         2.9375             81700.0  \n"
          ]
        }
      ]
    },
    {
      "cell_type": "code",
      "source": [
        "#Limpeza e Transformação de Dados\n",
        "#Funções ajudam a limpar e transformar os dados de maneira repetível e organizada.\n",
        "def limpar_dados(df):\n",
        "  df = df.dropna()\n",
        "  df = df.drop_duplicates(subset=['longitude', 'latitude'])\n",
        "  return df\n",
        "\n",
        "dados_clean = limpar_dados(dados)\n",
        "print(dados_clean.head())\n",
        "\n"
      ],
      "metadata": {
        "colab": {
          "base_uri": "https://localhost:8080/"
        },
        "id": "Wdc04kVUrTSL",
        "outputId": "87a8b2f5-354a-4444-f052-faacbabd8a6f"
      },
      "execution_count": null,
      "outputs": [
        {
          "output_type": "stream",
          "name": "stdout",
          "text": [
            "   longitude  latitude  housing_median_age  total_rooms  total_bedrooms  \\\n",
            "0    -122.05     37.37                27.0       3885.0           661.0   \n",
            "1    -118.30     34.26                43.0       1510.0           310.0   \n",
            "2    -117.81     33.78                27.0       3589.0           507.0   \n",
            "3    -118.36     33.82                28.0         67.0            15.0   \n",
            "4    -119.67     36.33                19.0       1241.0           244.0   \n",
            "\n",
            "   population  households  median_income  median_house_value  \n",
            "0      1537.0       606.0         6.6085            344700.0  \n",
            "1       809.0       277.0         3.5990            176500.0  \n",
            "2      1484.0       495.0         5.7934            270500.0  \n",
            "3        49.0        11.0         6.1359            330000.0  \n",
            "4       850.0       237.0         2.9375             81700.0  \n"
          ]
        }
      ]
    },
    {
      "cell_type": "markdown",
      "source": [
        "Funções de Análise Estatística\n",
        "\n",
        "Funções podem ser usadas para encapsular cálculos estatísticos comuns."
      ],
      "metadata": {
        "id": "OgwMkRnstY4A"
      }
    },
    {
      "cell_type": "code",
      "source": [
        "def media(df):\n",
        "  return df.mean()\n",
        "media(dados_clean)"
      ],
      "metadata": {
        "colab": {
          "base_uri": "https://localhost:8080/"
        },
        "id": "s9gHzEgytbe9",
        "outputId": "025d62db-33ff-4519-fc4c-26cd97536f0c"
      },
      "execution_count": null,
      "outputs": [
        {
          "output_type": "execute_result",
          "data": {
            "text/plain": [
              "longitude               -119.616456\n",
              "latitude                  35.690159\n",
              "housing_median_age        28.180678\n",
              "total_rooms             2658.964971\n",
              "total_bedrooms           537.973083\n",
              "population              1421.837758\n",
              "households               496.522124\n",
              "median_income              3.838861\n",
              "median_house_value    205188.722714\n",
              "dtype: float64"
            ]
          },
          "metadata": {},
          "execution_count": 20
        }
      ]
    },
    {
      "cell_type": "code",
      "source": [
        "def mediana(df):\n",
        "  return df.median()\n",
        "mediana(dados_clean)"
      ],
      "metadata": {
        "colab": {
          "base_uri": "https://localhost:8080/"
        },
        "id": "kORkXE8otuyY",
        "outputId": "ff8715e1-2e04-439c-9e4b-0aa162c67491"
      },
      "execution_count": null,
      "outputs": [
        {
          "output_type": "execute_result",
          "data": {
            "text/plain": [
              "longitude               -118.6600\n",
              "latitude                  34.4100\n",
              "housing_median_age        28.0000\n",
              "total_rooms             2155.0000\n",
              "total_bedrooms           442.0000\n",
              "population              1167.5000\n",
              "households               415.0000\n",
              "median_income              3.5173\n",
              "median_house_value    176900.0000\n",
              "dtype: float64"
            ]
          },
          "metadata": {},
          "execution_count": 21
        }
      ]
    },
    {
      "cell_type": "code",
      "source": [
        "def desvio_padrao(df):\n",
        "  return df.std()\n",
        "desvio_padrao(dados_clean)"
      ],
      "metadata": {
        "colab": {
          "base_uri": "https://localhost:8080/"
        },
        "id": "M-uh4zBYtwNu",
        "outputId": "d7639f9c-a553-486a-c39f-2df273cf1dba"
      },
      "execution_count": null,
      "outputs": [
        {
          "output_type": "execute_result",
          "data": {
            "text/plain": [
              "longitude                  2.000632\n",
              "latitude                   2.148004\n",
              "housing_median_age        12.467759\n",
              "total_rooms             2225.134661\n",
              "total_bedrooms           427.526386\n",
              "population              1059.771159\n",
              "households               375.300674\n",
              "median_income              1.867427\n",
              "median_house_value    113740.528775\n",
              "dtype: float64"
            ]
          },
          "metadata": {},
          "execution_count": 22
        }
      ]
    },
    {
      "cell_type": "code",
      "source": [
        "def correlacao(df):\n",
        "  return df.corr()\n",
        "correlacao(dados_clean)"
      ],
      "metadata": {
        "colab": {
          "base_uri": "https://localhost:8080/",
          "height": 351
        },
        "id": "PduM2QEhtyRV",
        "outputId": "b7311567-d7f7-4779-e981-e0dd7eae14c5"
      },
      "execution_count": null,
      "outputs": [
        {
          "output_type": "execute_result",
          "data": {
            "text/plain": [
              "                    longitude  latitude  housing_median_age  total_rooms  \\\n",
              "longitude            1.000000 -0.922165           -0.062139     0.059620   \n",
              "latitude            -0.922165  1.000000           -0.023760    -0.052744   \n",
              "housing_median_age  -0.062139 -0.023760            1.000000    -0.367922   \n",
              "total_rooms          0.059620 -0.052744           -0.367922     1.000000   \n",
              "total_bedrooms       0.081290 -0.081027           -0.325051     0.939420   \n",
              "population           0.117751 -0.126312           -0.303232     0.843089   \n",
              "households           0.061253 -0.081496           -0.307033     0.915578   \n",
              "median_income       -0.018662 -0.079426           -0.143900     0.215598   \n",
              "median_house_value  -0.042760 -0.153406            0.086748     0.156128   \n",
              "\n",
              "                    total_bedrooms  population  households  median_income  \\\n",
              "longitude                 0.081290    0.117751    0.061253      -0.018662   \n",
              "latitude                 -0.081027   -0.126312   -0.081496      -0.079426   \n",
              "housing_median_age       -0.325051   -0.303232   -0.307033      -0.143900   \n",
              "total_rooms               0.939420    0.843089    0.915578       0.215598   \n",
              "total_bedrooms            1.000000    0.857848    0.970487       0.022639   \n",
              "population                0.857848    1.000000    0.897793       0.035794   \n",
              "households                0.970487    0.897793    1.000000       0.047544   \n",
              "median_income             0.022639    0.035794    0.047544       1.000000   \n",
              "median_house_value        0.078090    0.001302    0.096069       0.675448   \n",
              "\n",
              "                    median_house_value  \n",
              "longitude                    -0.042760  \n",
              "latitude                     -0.153406  \n",
              "housing_median_age            0.086748  \n",
              "total_rooms                   0.156128  \n",
              "total_bedrooms                0.078090  \n",
              "population                    0.001302  \n",
              "households                    0.096069  \n",
              "median_income                 0.675448  \n",
              "median_house_value            1.000000  "
            ],
            "text/html": [
              "\n",
              "  <div id=\"df-fe7dbf54-b46a-4e79-b3dc-25a0078c40d9\" class=\"colab-df-container\">\n",
              "    <div>\n",
              "<style scoped>\n",
              "    .dataframe tbody tr th:only-of-type {\n",
              "        vertical-align: middle;\n",
              "    }\n",
              "\n",
              "    .dataframe tbody tr th {\n",
              "        vertical-align: top;\n",
              "    }\n",
              "\n",
              "    .dataframe thead th {\n",
              "        text-align: right;\n",
              "    }\n",
              "</style>\n",
              "<table border=\"1\" class=\"dataframe\">\n",
              "  <thead>\n",
              "    <tr style=\"text-align: right;\">\n",
              "      <th></th>\n",
              "      <th>longitude</th>\n",
              "      <th>latitude</th>\n",
              "      <th>housing_median_age</th>\n",
              "      <th>total_rooms</th>\n",
              "      <th>total_bedrooms</th>\n",
              "      <th>population</th>\n",
              "      <th>households</th>\n",
              "      <th>median_income</th>\n",
              "      <th>median_house_value</th>\n",
              "    </tr>\n",
              "  </thead>\n",
              "  <tbody>\n",
              "    <tr>\n",
              "      <th>longitude</th>\n",
              "      <td>1.000000</td>\n",
              "      <td>-0.922165</td>\n",
              "      <td>-0.062139</td>\n",
              "      <td>0.059620</td>\n",
              "      <td>0.081290</td>\n",
              "      <td>0.117751</td>\n",
              "      <td>0.061253</td>\n",
              "      <td>-0.018662</td>\n",
              "      <td>-0.042760</td>\n",
              "    </tr>\n",
              "    <tr>\n",
              "      <th>latitude</th>\n",
              "      <td>-0.922165</td>\n",
              "      <td>1.000000</td>\n",
              "      <td>-0.023760</td>\n",
              "      <td>-0.052744</td>\n",
              "      <td>-0.081027</td>\n",
              "      <td>-0.126312</td>\n",
              "      <td>-0.081496</td>\n",
              "      <td>-0.079426</td>\n",
              "      <td>-0.153406</td>\n",
              "    </tr>\n",
              "    <tr>\n",
              "      <th>housing_median_age</th>\n",
              "      <td>-0.062139</td>\n",
              "      <td>-0.023760</td>\n",
              "      <td>1.000000</td>\n",
              "      <td>-0.367922</td>\n",
              "      <td>-0.325051</td>\n",
              "      <td>-0.303232</td>\n",
              "      <td>-0.307033</td>\n",
              "      <td>-0.143900</td>\n",
              "      <td>0.086748</td>\n",
              "    </tr>\n",
              "    <tr>\n",
              "      <th>total_rooms</th>\n",
              "      <td>0.059620</td>\n",
              "      <td>-0.052744</td>\n",
              "      <td>-0.367922</td>\n",
              "      <td>1.000000</td>\n",
              "      <td>0.939420</td>\n",
              "      <td>0.843089</td>\n",
              "      <td>0.915578</td>\n",
              "      <td>0.215598</td>\n",
              "      <td>0.156128</td>\n",
              "    </tr>\n",
              "    <tr>\n",
              "      <th>total_bedrooms</th>\n",
              "      <td>0.081290</td>\n",
              "      <td>-0.081027</td>\n",
              "      <td>-0.325051</td>\n",
              "      <td>0.939420</td>\n",
              "      <td>1.000000</td>\n",
              "      <td>0.857848</td>\n",
              "      <td>0.970487</td>\n",
              "      <td>0.022639</td>\n",
              "      <td>0.078090</td>\n",
              "    </tr>\n",
              "    <tr>\n",
              "      <th>population</th>\n",
              "      <td>0.117751</td>\n",
              "      <td>-0.126312</td>\n",
              "      <td>-0.303232</td>\n",
              "      <td>0.843089</td>\n",
              "      <td>0.857848</td>\n",
              "      <td>1.000000</td>\n",
              "      <td>0.897793</td>\n",
              "      <td>0.035794</td>\n",
              "      <td>0.001302</td>\n",
              "    </tr>\n",
              "    <tr>\n",
              "      <th>households</th>\n",
              "      <td>0.061253</td>\n",
              "      <td>-0.081496</td>\n",
              "      <td>-0.307033</td>\n",
              "      <td>0.915578</td>\n",
              "      <td>0.970487</td>\n",
              "      <td>0.897793</td>\n",
              "      <td>1.000000</td>\n",
              "      <td>0.047544</td>\n",
              "      <td>0.096069</td>\n",
              "    </tr>\n",
              "    <tr>\n",
              "      <th>median_income</th>\n",
              "      <td>-0.018662</td>\n",
              "      <td>-0.079426</td>\n",
              "      <td>-0.143900</td>\n",
              "      <td>0.215598</td>\n",
              "      <td>0.022639</td>\n",
              "      <td>0.035794</td>\n",
              "      <td>0.047544</td>\n",
              "      <td>1.000000</td>\n",
              "      <td>0.675448</td>\n",
              "    </tr>\n",
              "    <tr>\n",
              "      <th>median_house_value</th>\n",
              "      <td>-0.042760</td>\n",
              "      <td>-0.153406</td>\n",
              "      <td>0.086748</td>\n",
              "      <td>0.156128</td>\n",
              "      <td>0.078090</td>\n",
              "      <td>0.001302</td>\n",
              "      <td>0.096069</td>\n",
              "      <td>0.675448</td>\n",
              "      <td>1.000000</td>\n",
              "    </tr>\n",
              "  </tbody>\n",
              "</table>\n",
              "</div>\n",
              "    <div class=\"colab-df-buttons\">\n",
              "\n",
              "  <div class=\"colab-df-container\">\n",
              "    <button class=\"colab-df-convert\" onclick=\"convertToInteractive('df-fe7dbf54-b46a-4e79-b3dc-25a0078c40d9')\"\n",
              "            title=\"Convert this dataframe to an interactive table.\"\n",
              "            style=\"display:none;\">\n",
              "\n",
              "  <svg xmlns=\"http://www.w3.org/2000/svg\" height=\"24px\" viewBox=\"0 -960 960 960\">\n",
              "    <path d=\"M120-120v-720h720v720H120Zm60-500h600v-160H180v160Zm220 220h160v-160H400v160Zm0 220h160v-160H400v160ZM180-400h160v-160H180v160Zm440 0h160v-160H620v160ZM180-180h160v-160H180v160Zm440 0h160v-160H620v160Z\"/>\n",
              "  </svg>\n",
              "    </button>\n",
              "\n",
              "  <style>\n",
              "    .colab-df-container {\n",
              "      display:flex;\n",
              "      gap: 12px;\n",
              "    }\n",
              "\n",
              "    .colab-df-convert {\n",
              "      background-color: #E8F0FE;\n",
              "      border: none;\n",
              "      border-radius: 50%;\n",
              "      cursor: pointer;\n",
              "      display: none;\n",
              "      fill: #1967D2;\n",
              "      height: 32px;\n",
              "      padding: 0 0 0 0;\n",
              "      width: 32px;\n",
              "    }\n",
              "\n",
              "    .colab-df-convert:hover {\n",
              "      background-color: #E2EBFA;\n",
              "      box-shadow: 0px 1px 2px rgba(60, 64, 67, 0.3), 0px 1px 3px 1px rgba(60, 64, 67, 0.15);\n",
              "      fill: #174EA6;\n",
              "    }\n",
              "\n",
              "    .colab-df-buttons div {\n",
              "      margin-bottom: 4px;\n",
              "    }\n",
              "\n",
              "    [theme=dark] .colab-df-convert {\n",
              "      background-color: #3B4455;\n",
              "      fill: #D2E3FC;\n",
              "    }\n",
              "\n",
              "    [theme=dark] .colab-df-convert:hover {\n",
              "      background-color: #434B5C;\n",
              "      box-shadow: 0px 1px 3px 1px rgba(0, 0, 0, 0.15);\n",
              "      filter: drop-shadow(0px 1px 2px rgba(0, 0, 0, 0.3));\n",
              "      fill: #FFFFFF;\n",
              "    }\n",
              "  </style>\n",
              "\n",
              "    <script>\n",
              "      const buttonEl =\n",
              "        document.querySelector('#df-fe7dbf54-b46a-4e79-b3dc-25a0078c40d9 button.colab-df-convert');\n",
              "      buttonEl.style.display =\n",
              "        google.colab.kernel.accessAllowed ? 'block' : 'none';\n",
              "\n",
              "      async function convertToInteractive(key) {\n",
              "        const element = document.querySelector('#df-fe7dbf54-b46a-4e79-b3dc-25a0078c40d9');\n",
              "        const dataTable =\n",
              "          await google.colab.kernel.invokeFunction('convertToInteractive',\n",
              "                                                    [key], {});\n",
              "        if (!dataTable) return;\n",
              "\n",
              "        const docLinkHtml = 'Like what you see? Visit the ' +\n",
              "          '<a target=\"_blank\" href=https://colab.research.google.com/notebooks/data_table.ipynb>data table notebook</a>'\n",
              "          + ' to learn more about interactive tables.';\n",
              "        element.innerHTML = '';\n",
              "        dataTable['output_type'] = 'display_data';\n",
              "        await google.colab.output.renderOutput(dataTable, element);\n",
              "        const docLink = document.createElement('div');\n",
              "        docLink.innerHTML = docLinkHtml;\n",
              "        element.appendChild(docLink);\n",
              "      }\n",
              "    </script>\n",
              "  </div>\n",
              "\n",
              "\n",
              "<div id=\"df-3c439b5a-a347-4a12-8211-61430b211fbb\">\n",
              "  <button class=\"colab-df-quickchart\" onclick=\"quickchart('df-3c439b5a-a347-4a12-8211-61430b211fbb')\"\n",
              "            title=\"Suggest charts\"\n",
              "            style=\"display:none;\">\n",
              "\n",
              "<svg xmlns=\"http://www.w3.org/2000/svg\" height=\"24px\"viewBox=\"0 0 24 24\"\n",
              "     width=\"24px\">\n",
              "    <g>\n",
              "        <path d=\"M19 3H5c-1.1 0-2 .9-2 2v14c0 1.1.9 2 2 2h14c1.1 0 2-.9 2-2V5c0-1.1-.9-2-2-2zM9 17H7v-7h2v7zm4 0h-2V7h2v10zm4 0h-2v-4h2v4z\"/>\n",
              "    </g>\n",
              "</svg>\n",
              "  </button>\n",
              "\n",
              "<style>\n",
              "  .colab-df-quickchart {\n",
              "      --bg-color: #E8F0FE;\n",
              "      --fill-color: #1967D2;\n",
              "      --hover-bg-color: #E2EBFA;\n",
              "      --hover-fill-color: #174EA6;\n",
              "      --disabled-fill-color: #AAA;\n",
              "      --disabled-bg-color: #DDD;\n",
              "  }\n",
              "\n",
              "  [theme=dark] .colab-df-quickchart {\n",
              "      --bg-color: #3B4455;\n",
              "      --fill-color: #D2E3FC;\n",
              "      --hover-bg-color: #434B5C;\n",
              "      --hover-fill-color: #FFFFFF;\n",
              "      --disabled-bg-color: #3B4455;\n",
              "      --disabled-fill-color: #666;\n",
              "  }\n",
              "\n",
              "  .colab-df-quickchart {\n",
              "    background-color: var(--bg-color);\n",
              "    border: none;\n",
              "    border-radius: 50%;\n",
              "    cursor: pointer;\n",
              "    display: none;\n",
              "    fill: var(--fill-color);\n",
              "    height: 32px;\n",
              "    padding: 0;\n",
              "    width: 32px;\n",
              "  }\n",
              "\n",
              "  .colab-df-quickchart:hover {\n",
              "    background-color: var(--hover-bg-color);\n",
              "    box-shadow: 0 1px 2px rgba(60, 64, 67, 0.3), 0 1px 3px 1px rgba(60, 64, 67, 0.15);\n",
              "    fill: var(--button-hover-fill-color);\n",
              "  }\n",
              "\n",
              "  .colab-df-quickchart-complete:disabled,\n",
              "  .colab-df-quickchart-complete:disabled:hover {\n",
              "    background-color: var(--disabled-bg-color);\n",
              "    fill: var(--disabled-fill-color);\n",
              "    box-shadow: none;\n",
              "  }\n",
              "\n",
              "  .colab-df-spinner {\n",
              "    border: 2px solid var(--fill-color);\n",
              "    border-color: transparent;\n",
              "    border-bottom-color: var(--fill-color);\n",
              "    animation:\n",
              "      spin 1s steps(1) infinite;\n",
              "  }\n",
              "\n",
              "  @keyframes spin {\n",
              "    0% {\n",
              "      border-color: transparent;\n",
              "      border-bottom-color: var(--fill-color);\n",
              "      border-left-color: var(--fill-color);\n",
              "    }\n",
              "    20% {\n",
              "      border-color: transparent;\n",
              "      border-left-color: var(--fill-color);\n",
              "      border-top-color: var(--fill-color);\n",
              "    }\n",
              "    30% {\n",
              "      border-color: transparent;\n",
              "      border-left-color: var(--fill-color);\n",
              "      border-top-color: var(--fill-color);\n",
              "      border-right-color: var(--fill-color);\n",
              "    }\n",
              "    40% {\n",
              "      border-color: transparent;\n",
              "      border-right-color: var(--fill-color);\n",
              "      border-top-color: var(--fill-color);\n",
              "    }\n",
              "    60% {\n",
              "      border-color: transparent;\n",
              "      border-right-color: var(--fill-color);\n",
              "    }\n",
              "    80% {\n",
              "      border-color: transparent;\n",
              "      border-right-color: var(--fill-color);\n",
              "      border-bottom-color: var(--fill-color);\n",
              "    }\n",
              "    90% {\n",
              "      border-color: transparent;\n",
              "      border-bottom-color: var(--fill-color);\n",
              "    }\n",
              "  }\n",
              "</style>\n",
              "\n",
              "  <script>\n",
              "    async function quickchart(key) {\n",
              "      const quickchartButtonEl =\n",
              "        document.querySelector('#' + key + ' button');\n",
              "      quickchartButtonEl.disabled = true;  // To prevent multiple clicks.\n",
              "      quickchartButtonEl.classList.add('colab-df-spinner');\n",
              "      try {\n",
              "        const charts = await google.colab.kernel.invokeFunction(\n",
              "            'suggestCharts', [key], {});\n",
              "      } catch (error) {\n",
              "        console.error('Error during call to suggestCharts:', error);\n",
              "      }\n",
              "      quickchartButtonEl.classList.remove('colab-df-spinner');\n",
              "      quickchartButtonEl.classList.add('colab-df-quickchart-complete');\n",
              "    }\n",
              "    (() => {\n",
              "      let quickchartButtonEl =\n",
              "        document.querySelector('#df-3c439b5a-a347-4a12-8211-61430b211fbb button');\n",
              "      quickchartButtonEl.style.display =\n",
              "        google.colab.kernel.accessAllowed ? 'block' : 'none';\n",
              "    })();\n",
              "  </script>\n",
              "</div>\n",
              "\n",
              "    </div>\n",
              "  </div>\n"
            ],
            "application/vnd.google.colaboratory.intrinsic+json": {
              "type": "dataframe",
              "summary": "{\n  \"name\": \"correlacao(dados_clean)\",\n  \"rows\": 9,\n  \"fields\": [\n    {\n      \"column\": \"longitude\",\n      \"properties\": {\n        \"dtype\": \"number\",\n        \"std\": 0.4842330721915051,\n        \"min\": -0.9221652736696495,\n        \"max\": 1.0,\n        \"num_unique_values\": 9,\n        \"samples\": [\n          -0.018662265467760685,\n          -0.9221652736696495,\n          0.11775065611272399\n        ],\n        \"semantic_type\": \"\",\n        \"description\": \"\"\n      }\n    },\n    {\n      \"column\": \"latitude\",\n      \"properties\": {\n        \"dtype\": \"number\",\n        \"std\": 0.4851102335357317,\n        \"min\": -0.9221652736696495,\n        \"max\": 1.0,\n        \"num_unique_values\": 9,\n        \"samples\": [\n          -0.07942614434526309,\n          1.0,\n          -0.12631227860100558\n        ],\n        \"semantic_type\": \"\",\n        \"description\": \"\"\n      }\n    },\n    {\n      \"column\": \"housing_median_age\",\n      \"properties\": {\n        \"dtype\": \"number\",\n        \"std\": 0.42393560290870624,\n        \"min\": -0.36792172925739236,\n        \"max\": 1.0,\n        \"num_unique_values\": 9,\n        \"samples\": [\n          -0.14389973141618068,\n          -0.023760231937196025,\n          -0.30323197232496785\n        ],\n        \"semantic_type\": \"\",\n        \"description\": \"\"\n      }\n    },\n    {\n      \"column\": \"total_rooms\",\n      \"properties\": {\n        \"dtype\": \"number\",\n        \"std\": 0.5142743523982173,\n        \"min\": -0.36792172925739236,\n        \"max\": 1.0,\n        \"num_unique_values\": 9,\n        \"samples\": [\n          0.2155981398665593,\n          -0.052743724735224706,\n          0.8430891335141291\n        ],\n        \"semantic_type\": \"\",\n        \"description\": \"\"\n      }\n    },\n    {\n      \"column\": \"total_bedrooms\",\n      \"properties\": {\n        \"dtype\": \"number\",\n        \"std\": 0.5350692142428288,\n        \"min\": -0.32505135677644353,\n        \"max\": 1.0,\n        \"num_unique_values\": 9,\n        \"samples\": [\n          0.022638901853166808,\n          -0.0810270336916014,\n          0.8578479788819224\n        ],\n        \"semantic_type\": \"\",\n        \"description\": \"\"\n      }\n    },\n    {\n      \"column\": \"population\",\n      \"properties\": {\n        \"dtype\": \"number\",\n        \"std\": 0.5181818288909825,\n        \"min\": -0.30323197232496785,\n        \"max\": 1.0,\n        \"num_unique_values\": 9,\n        \"samples\": [\n          0.03579398922307817,\n          -0.12631227860100558,\n          1.0\n        ],\n        \"semantic_type\": \"\",\n        \"description\": \"\"\n      }\n    },\n    {\n      \"column\": \"households\",\n      \"properties\": {\n        \"dtype\": \"number\",\n        \"std\": 0.5317607917213332,\n        \"min\": -0.3070326216458786,\n        \"max\": 1.0,\n        \"num_unique_values\": 9,\n        \"samples\": [\n          0.047543818720055024,\n          -0.08149581720501456,\n          0.8977931236245049\n        ],\n        \"semantic_type\": \"\",\n        \"description\": \"\"\n      }\n    },\n    {\n      \"column\": \"median_income\",\n      \"properties\": {\n        \"dtype\": \"number\",\n        \"std\": 0.3859877231575186,\n        \"min\": -0.14389973141618068,\n        \"max\": 1.0,\n        \"num_unique_values\": 9,\n        \"samples\": [\n          1.0,\n          -0.07942614434526309,\n          0.03579398922307817\n        ],\n        \"semantic_type\": \"\",\n        \"description\": \"\"\n      }\n    },\n    {\n      \"column\": \"median_house_value\",\n      \"properties\": {\n        \"dtype\": \"number\",\n        \"std\": 0.3756187377194246,\n        \"min\": -0.15340577478107265,\n        \"max\": 1.0,\n        \"num_unique_values\": 9,\n        \"samples\": [\n          0.6754480913029706,\n          -0.15340577478107265,\n          0.001302152058706627\n        ],\n        \"semantic_type\": \"\",\n        \"description\": \"\"\n      }\n    }\n  ]\n}"
            }
          },
          "metadata": {},
          "execution_count": 23
        }
      ]
    },
    {
      "cell_type": "markdown",
      "source": [
        "Visualização de Dados\n",
        "\n",
        "Funções ajudam a criar visualizações diversicadas."
      ],
      "metadata": {
        "id": "30AfM-RmuqYq"
      }
    },
    {
      "cell_type": "code",
      "source": [
        "import matplotlib.pyplot as plt"
      ],
      "metadata": {
        "id": "MV95CEtMuvXz"
      },
      "execution_count": null,
      "outputs": []
    },
    {
      "cell_type": "code",
      "source": [
        "def plotar_histograma(df):\n",
        "  df.hist()\n",
        "  plt.show()\n",
        "plotar_histograma(dados_clean['median_house_value'])\n",
        "plotar_histograma(dados_clean['median_income'])\n",
        "plotar_histograma(dados_clean['population'])\n",
        "plotar_histograma(dados_clean['total_rooms'])\n",
        "plotar_histograma(dados_clean['total_bedrooms'])\n",
        "plotar_histograma(dados_clean['households'])"
      ],
      "metadata": {
        "colab": {
          "base_uri": "https://localhost:8080/",
          "height": 1000
        },
        "id": "Z5XbaqrXuzc2",
        "outputId": "257bed03-432d-42a0-efd6-47ecb3af18a6"
      },
      "execution_count": null,
      "outputs": [
        {
          "output_type": "display_data",
          "data": {
            "text/plain": [
              "<Figure size 640x480 with 1 Axes>"
            ],
            "image/png": "[encoded data removed]"
          },
          "metadata": {}
        },
        {
          "output_type": "display_data",
          "data": {
            "text/plain": [
              "<Figure size 640x480 with 1 Axes>"
            ],
            "image/png": "[encoded data removed]"
          },
          "metadata": {}
        },
        {
          "output_type": "display_data",
          "data": {
            "text/plain": [
              "<Figure size 640x480 with 1 Axes>"
            ],
            "image/png": "[encoded data removed]"
          },
          "metadata": {}
        },
        {
          "output_type": "display_data",
          "data": {
            "text/plain": [
              "<Figure size 640x480 with 1 Axes>"
            ],
            "image/png": "[encoded data removed]"
          },
          "metadata": {}
        },
        {
          "output_type": "display_data",
          "data": {
            "text/plain": [
              "<Figure size 640x480 with 1 Axes>"
            ],
            "image/png": "[encoded data removed]"
          },
          "metadata": {}
        },
        {
          "output_type": "display_data",
          "data": {
            "text/plain": [
              "<Figure size 640x480 with 1 Axes>"
            ],
            "image/png": "[encoded data removed]"
          },
          "metadata": {}
        }
      ]
    },
    {
      "cell_type": "markdown",
      "source": [
        "Funções Avançadas"
      ],
      "metadata": {
        "id": "dQAvtxcewLfu"
      }
    },
    {
      "cell_type": "code",
      "source": [
        "#Função Lambda\n",
        "#Funções Lambda são funções anônimas que podem ser definidas em uma única linha.\n",
        "quadrado = lambda x: x ** 2\n",
        "quadrado(2)"
      ],
      "metadata": {
        "colab": {
          "base_uri": "https://localhost:8080/"
        },
        "id": "j_urTfT_wPLb",
        "outputId": "db3c4048-4e1a-40e2-e156-293391596512"
      },
      "execution_count": null,
      "outputs": [
        {
          "output_type": "execute_result",
          "data": {
            "text/plain": [
              "4"
            ]
          },
          "metadata": {},
          "execution_count": 39
        }
      ]
    },
    {
      "cell_type": "code",
      "source": [
        "#Decoradores\n",
        "#Decoradores são usados para modificar o comportamento de funções ou métodos.\n",
        "#Em Python, um decorador é uma função que recebe outra função como argumento e retorna outra função.\n",
        "def decorador(funcao):\n",
        "  def funcao_exemplo():\n",
        "    print('Execução antes da função')\n",
        "    funcao()\n",
        "    print('Execução após a função')\n",
        "  return funcao_exemplo\n",
        "@decorador\n",
        "def nova_funcao():\n",
        "  print('Minha função')\n",
        "nova_funcao()"
      ],
      "metadata": {
        "colab": {
          "base_uri": "https://localhost:8080/"
        },
        "id": "zr1dpok6wvjS",
        "outputId": "0a3e2c4e-ef50-4fed-fed6-a62acd549f09"
      },
      "execution_count": null,
      "outputs": [
        {
          "output_type": "stream",
          "name": "stdout",
          "text": [
            "Execução antes da função\n",
            "Minha função\n",
            "Execução após a função\n"
          ]
        }
      ]
    },
    {
      "cell_type": "markdown",
      "source": [
        "Conclusão\n",
        "\n",
        "Funções são ferramentas poderosas para automação e eficiência na coleta e processamento de dados de bancos de dados. Elas permitem encapsular, consultar e manipular de dados, tornando o código mais modular, legível e reutilizável. Ao usar loops em combinação com funções, você pode realizar tarefas complexas de maneira eficiente, um aspecto crucial em aplicações de ciência de dados."
      ],
      "metadata": {
        "id": "ecDaYCDFxqo1"
      }
    },
    {
      "cell_type": "code",
      "source": [],
      "metadata": {
        "id": "Oizw8STexrtb"
      },
      "execution_count": null,
      "outputs": []
    }
  ]
}