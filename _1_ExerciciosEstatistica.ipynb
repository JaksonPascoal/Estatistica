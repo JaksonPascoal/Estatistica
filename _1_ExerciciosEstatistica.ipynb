{
  "nbformat": 4,
  "nbformat_minor": 0,
  "metadata": {
    "colab": {
      "provenance": []
    },
    "kernelspec": {
      "name": "python3",
      "display_name": "Python 3"
    },
    "language_info": {
      "name": "python"
    }
  },
  "cells": [
    {
      "cell_type": "markdown",
      "source": [
        "Lista de Exercícios de Estatística Descritiva\n",
        "1. Medidas de Tendência Central\n",
        "2. Medidas de Dispersão\n",
        "3. Distribuição de Frequências\n",
        "4. Representações Gráficas\n",
        "5. Outras Medidas"
      ],
      "metadata": {
        "id": "pbSLwpB8Jxyr"
      }
    },
    {
      "cell_type": "code",
      "source": [
        "import statistics\n",
        "import matplotlib.pyplot as plt"
      ],
      "metadata": {
        "id": "EnPNiuf6MLuZ"
      },
      "execution_count": 3,
      "outputs": []
    },
    {
      "cell_type": "markdown",
      "source": [
        "Para resolver estes exercicios, estou importando a biblioteca statistics, que é padrão do Python. Trata-se de uma biblioteca que fornece funções para cálculos estatísticos básicos. Ela foi introduzida no Python 3.4 e é particularmente útil para tarefas comuns de análise de dados, como calcular médias, medianas, modas, variâncias e desvios padrão, entre outros. Para a representação dos gráficos, estou importando a biblioteca matplotlib."
      ],
      "metadata": {
        "id": "eNTBj80xMIXF"
      }
    },
    {
      "cell_type": "markdown",
      "source": [
        "1-Cálculo da Média:\n",
        "\n",
        "Encontre a média dos seguintes valores: 12, 15, 23, 26, 29, 34, 35.\n"
      ],
      "metadata": {
        "id": "tAqoIz0LKB5A"
      }
    },
    {
      "cell_type": "markdown",
      "source": [
        "1 - Medidas de Tendência Central"
      ],
      "metadata": {
        "id": "tFJnXM73LcH9"
      }
    },
    {
      "cell_type": "code",
      "source": [
        "# Cálculo da Média:\n",
        "media = statistics.mean([12, 15, 23, 26, 29, 34, 35])\n",
        "media"
      ],
      "metadata": {
        "colab": {
          "base_uri": "https://localhost:8080/"
        },
        "id": "-fyAxe54KPGb",
        "outputId": "f5e1fba3-83e5-4878-e74d-9ade22809116"
      },
      "execution_count": 6,
      "outputs": [
        {
          "output_type": "execute_result",
          "data": {
            "text/plain": [
              "24.857142857142858"
            ]
          },
          "metadata": {},
          "execution_count": 6
        }
      ]
    },
    {
      "cell_type": "code",
      "source": [
        "#Cálculo da Mediana:\n",
        "mediana = statistics.median([12, 15, 23, 26, 29, 34, 35])\n",
        "mediana"
      ],
      "metadata": {
        "colab": {
          "base_uri": "https://localhost:8080/"
        },
        "id": "OZOEu-JTLR0S",
        "outputId": "be46967a-810d-4f29-c8a0-cb9e53b43a40"
      },
      "execution_count": 5,
      "outputs": [
        {
          "output_type": "execute_result",
          "data": {
            "text/plain": [
              "26"
            ]
          },
          "metadata": {},
          "execution_count": 5
        }
      ]
    },
    {
      "cell_type": "code",
      "source": [
        "from ast import mod\n",
        "#Cálculo da Moda:\n",
        "moda = statistics.mode([12, 15, 23, 26, 29, 34, 35])\n",
        "moda"
      ],
      "metadata": {
        "colab": {
          "base_uri": "https://localhost:8080/"
        },
        "id": "6CKqC5oTMs_h",
        "outputId": "5e8840f8-b4a9-4836-ae5a-faba67a629f0"
      },
      "execution_count": 7,
      "outputs": [
        {
          "output_type": "execute_result",
          "data": {
            "text/plain": [
              "12"
            ]
          },
          "metadata": {},
          "execution_count": 7
        }
      ]
    },
    {
      "cell_type": "markdown",
      "source": [
        "2 - Medidas de Dispersão"
      ],
      "metadata": {
        "id": "0Yotfc7fPutg"
      }
    },
    {
      "cell_type": "code",
      "source": [
        "#Cálculo do Desvio padrão:\n",
        "desviopadrao = statistics.stdev([12, 15, 23, 26, 29, 34, 35])\n",
        "desviopadrao"
      ],
      "metadata": {
        "colab": {
          "base_uri": "https://localhost:8080/"
        },
        "id": "wkJtuU3mNOli",
        "outputId": "f80c1a7d-48fd-46e2-8b46-4f846dbfa33f"
      },
      "execution_count": 8,
      "outputs": [
        {
          "output_type": "execute_result",
          "data": {
            "text/plain": [
              "8.858678822273133"
            ]
          },
          "metadata": {},
          "execution_count": 8
        }
      ]
    },
    {
      "cell_type": "code",
      "source": [
        "#Cálculo da Variância:\n",
        "variancia = statistics.variance([12, 15, 23, 26, 29, 34, 35])\n",
        "variancia"
      ],
      "metadata": {
        "colab": {
          "base_uri": "https://localhost:8080/"
        },
        "id": "0ZYNTAqzNj3n",
        "outputId": "d0cc37a0-8f2e-4dfb-9f5f-ca5e11b0c7cc"
      },
      "execution_count": 9,
      "outputs": [
        {
          "output_type": "execute_result",
          "data": {
            "text/plain": [
              "78.47619047619048"
            ]
          },
          "metadata": {},
          "execution_count": 9
        }
      ]
    },
    {
      "cell_type": "code",
      "source": [
        "#Intervalo de Variação (Range):\n",
        "range = statistics.pvariance([12, 15, 23, 26, 29, 34, 35])\n",
        "range"
      ],
      "metadata": {
        "colab": {
          "base_uri": "https://localhost:8080/"
        },
        "id": "ls6hF-pDPHvg",
        "outputId": "8d29f297-b298-496b-a81f-8975f8b9b3a7"
      },
      "execution_count": 10,
      "outputs": [
        {
          "output_type": "execute_result",
          "data": {
            "text/plain": [
              "67.26530612244898"
            ]
          },
          "metadata": {},
          "execution_count": 10
        }
      ]
    },
    {
      "cell_type": "markdown",
      "source": [
        "3 - Distribuição de Frequências"
      ],
      "metadata": {
        "id": "wYWAr-4uQHzm"
      }
    },
    {
      "cell_type": "code",
      "source": [
        "#Construção de Tabela de Frequências:\n",
        "from collections import Counter\n",
        "data = [12, 15, 23, 23, 12, 26, 29, 34, 35,35]\n",
        "frequencia = Counter(data)\n",
        "frequencia"
      ],
      "metadata": {
        "colab": {
          "base_uri": "https://localhost:8080/"
        },
        "id": "f4E-PK1VPYu8",
        "outputId": "23f9f5df-ba01-440b-b3a3-2f5d7baa1f9e"
      },
      "execution_count": 22,
      "outputs": [
        {
          "output_type": "execute_result",
          "data": {
            "text/plain": [
              "Counter({12: 2, 15: 1, 23: 2, 26: 1, 29: 1, 34: 1, 35: 2})"
            ]
          },
          "metadata": {},
          "execution_count": 22
        }
      ]
    },
    {
      "cell_type": "code",
      "source": [
        "#Construção da tabela\n",
        "frequencia_table = sorted(frequencia.items())\n",
        "frequencia_table\n",
        "print(\"Valor | Frequência\")\n",
        "print('--------------------')\n",
        "for value, frequency in frequencia_table:\n",
        "    print(f\"{value} | {frequency}\")"
      ],
      "metadata": {
        "colab": {
          "base_uri": "https://localhost:8080/"
        },
        "id": "Brke1C48RHbd",
        "outputId": "2e57f1c2-604f-4f7b-ae00-1800a6b427c3"
      },
      "execution_count": 23,
      "outputs": [
        {
          "output_type": "stream",
          "name": "stdout",
          "text": [
            "Valor | Frequência\n",
            "--------------------\n",
            "12 | 2\n",
            "15 | 1\n",
            "23 | 2\n",
            "26 | 1\n",
            "29 | 1\n",
            "34 | 1\n",
            "35 | 2\n"
          ]
        }
      ]
    },
    {
      "cell_type": "code",
      "source": [
        "#Cálculo da Frequência Relativa\n",
        "frequencia_relativa = {value: frequency / len(data) for value, frequency in frequencia.items()}\n",
        "frequencia_relativa\n",
        "print(\"Valor | Frequência Relativa\")\n",
        "print('--------------------')\n",
        "for value, frequency in frequencia_relativa.items():\n",
        "    print(f\"{value} | {frequency}\")"
      ],
      "metadata": {
        "colab": {
          "base_uri": "https://localhost:8080/"
        },
        "id": "2g5JPgW9Re0Z",
        "outputId": "84b861ed-1079-43b9-ae67-84ecc2a05999"
      },
      "execution_count": 25,
      "outputs": [
        {
          "output_type": "stream",
          "name": "stdout",
          "text": [
            "Valor | Frequência Relativa\n",
            "--------------------\n",
            "12 | 0.2\n",
            "15 | 0.1\n",
            "23 | 0.2\n",
            "26 | 0.1\n",
            "29 | 0.1\n",
            "34 | 0.1\n",
            "35 | 0.2\n"
          ]
        }
      ]
    },
    {
      "cell_type": "markdown",
      "source": [
        "4 - Representações Gráficas"
      ],
      "metadata": {
        "id": "l8NCcxsoUgMr"
      }
    },
    {
      "cell_type": "code",
      "source": [
        "#Histograma\n",
        "plt.hist(data)\n",
        "plt.show()"
      ],
      "metadata": {
        "colab": {
          "base_uri": "https://localhost:8080/",
          "height": 430
        },
        "id": "ZIuqAmhYTcO-",
        "outputId": "e63ec67a-d758-4441-c779-05d3e19f8354"
      },
      "execution_count": 28,
      "outputs": [
        {
          "output_type": "display_data",
          "data": {
            "text/plain": [
              "<Figure size 640x480 with 1 Axes>"
            ],
            "image/png": "[encoded data removed]"
          },
          "metadata": {}
        }
      ]
    },
    {
      "cell_type": "code",
      "source": [
        "#Box Plot\n",
        "plt.boxplot(data)\n",
        "plt.show()"
      ],
      "metadata": {
        "colab": {
          "base_uri": "https://localhost:8080/",
          "height": 430
        },
        "id": "v6LY9H-WUnNx",
        "outputId": "40fd11b9-20f8-4b9d-c243-fcd0c9a5aa75"
      },
      "execution_count": 27,
      "outputs": [
        {
          "output_type": "display_data",
          "data": {
            "text/plain": [
              "<Figure size 640x480 with 1 Axes>"
            ],
            "image/png": "[encoded data removed]"
          },
          "metadata": {}
        }
      ]
    },
    {
      "cell_type": "markdown",
      "source": [
        "5 - Outras Medidas de Estatistica"
      ],
      "metadata": {
        "id": "0DGJx0rLVi-3"
      }
    },
    {
      "cell_type": "code",
      "source": [
        "#Coeficiente de Variação:\n",
        "cv = statistics.pstdev(data) / statistics.mean(data)\n",
        "cv"
      ],
      "metadata": {
        "colab": {
          "base_uri": "https://localhost:8080/"
        },
        "id": "xzvY9A_8VoE-",
        "outputId": "93ccb661-1861-48ae-dcff-f4e872f065f1"
      },
      "execution_count": 29,
      "outputs": [
        {
          "output_type": "execute_result",
          "data": {
            "text/plain": [
              "0.3526495862999829"
            ]
          },
          "metadata": {},
          "execution_count": 29
        }
      ]
    },
    {
      "cell_type": "code",
      "source": [
        "#Percentis\n",
        "percentis = statistics.quantiles(data, n=10, method='inclusive')\n",
        "percentis"
      ],
      "metadata": {
        "colab": {
          "base_uri": "https://localhost:8080/"
        },
        "id": "pB4wbFp5Vu7g",
        "outputId": "f4649624-900d-4aa0-be5e-02fbe28c2cf3"
      },
      "execution_count": 30,
      "outputs": [
        {
          "output_type": "execute_result",
          "data": {
            "text/plain": [
              "[12.0, 14.4, 20.6, 23.0, 24.5, 27.2, 30.5, 34.2, 35.0]"
            ]
          },
          "metadata": {},
          "execution_count": 30
        }
      ]
    },
    {
      "cell_type": "code",
      "source": [
        "plt.boxplot(percentis)\n",
        "plt.show()"
      ],
      "metadata": {
        "colab": {
          "base_uri": "https://localhost:8080/",
          "height": 430
        },
        "id": "rLP6LLBsV2W6",
        "outputId": "d396c5cc-9c7c-4380-97fd-c4b224ee32c2"
      },
      "execution_count": 31,
      "outputs": [
        {
          "output_type": "display_data",
          "data": {
            "text/plain": [
              "<Figure size 640x480 with 1 Axes>"
            ],
            "image/png": "[encoded data removed]"
          },
          "metadata": {}
        }
      ]
    },
    {
      "cell_type": "code",
      "source": [],
      "metadata": {
        "id": "MoFum3M2WLby"
      },
      "execution_count": null,
      "outputs": []
    }
  ]
}